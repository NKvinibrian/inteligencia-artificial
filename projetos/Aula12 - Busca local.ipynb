{
  "nbformat": 4,
  "nbformat_minor": 0,
  "metadata": {
    "colab": {
      "provenance": [],
      "collapsed_sections": []
    },
    "kernelspec": {
      "name": "python3",
      "display_name": "Python 3"
    },
    "language_info": {
      "name": "python"
    }
  },
  "cells": [
    {
      "cell_type": "markdown",
      "source": [
        "# Aula12 - Busca local"
      ],
      "metadata": {
        "id": "nZvlxsxMaIWY"
      }
    },
    {
      "cell_type": "markdown",
      "source": [
        "## Hill Climbing"
      ],
      "metadata": {
        "id": "O3YuzRxSaPAH"
      }
    },
    {
      "cell_type": "code",
      "source": [
        "from typing import List\n",
        "from random import uniform\n",
        "\n",
        "# Problema\n",
        "# 1. Função objetivo - teste do objetivo\n",
        "def f(x: float) -> float:\n",
        "    return -2 * x ** 4 + 5 * x ** 2 + 3 * x + 8\n",
        "\n",
        "# 2. Estado inicial\n",
        "def get_ei():\n",
        "    return uniform(-5, 5)\n",
        "\n",
        "# 3. Ações\n",
        "# - Somar ou subtrair valores entre 0 e 0.5\n",
        "\n",
        "# 4. Função sucessora\n",
        "def funcao_sucessora(x: float) -> List[float]:\n",
        "    return [x + uniform(-0.1, 0.1) for _ in range(50)]\n",
        "\n",
        "# 5. Custo do caminho\n",
        "# - Não se aplica\n"
      ],
      "metadata": {
        "id": "hc0MhKyKag5P"
      },
      "execution_count": 16,
      "outputs": []
    },
    {
      "cell_type": "code",
      "source": [
        "def hill_climbing():\n",
        "    estado_atual = get_ei()\n",
        "    estado_melhor = estado_atual\n",
        "\n",
        "    i = 0\n",
        "    while True:\n",
        "        vizinhanca = funcao_sucessora(estado_atual)\n",
        "        \n",
        "        for v in vizinhanca:\n",
        "            if f(v) >= f(estado_atual) and f(v) >= f(estado_melhor):\n",
        "                estado_melhor = v\n",
        "\n",
        "        erro = abs(f(estado_melhor) - f(estado_atual))\n",
        "        if erro <= 0.0001:\n",
        "            return estado_melhor\n",
        "        else:\n",
        "            estado_atual = estado_melhor\n",
        "        \n",
        "        i += 1\n",
        "        print(f'{i:03d} - {estado_melhor:.4f} - {f(estado_melhor):.4f} - {erro:.4f}')\n",
        "\n",
        "    \n",
        "print(f'* Melhor solucao: {hill_climbing()}')"
      ],
      "metadata": {
        "colab": {
          "base_uri": "https://localhost:8080/"
        },
        "id": "O1uHqOXFaZB-",
        "outputId": "42975bef-b188-4ca7-cb44-7a0fb47d2860"
      },
      "execution_count": 20,
      "outputs": [
        {
          "output_type": "stream",
          "name": "stdout",
          "text": [
            "001 - -0.2224 - 7.5752 - 0.0442\n",
            "002 - -0.1235 - 7.7054 - 0.1301\n",
            "003 - -0.0266 - 7.9237 - 0.2184\n",
            "004 - 0.0662 - 8.2206 - 0.2969\n",
            "005 - 0.1653 - 8.6309 - 0.4103\n",
            "006 - 0.2633 - 9.1267 - 0.4958\n",
            "007 - 0.3587 - 9.6861 - 0.5594\n",
            "008 - 0.4545 - 10.3113 - 0.6252\n",
            "009 - 0.5535 - 11.0046 - 0.6933\n",
            "010 - 0.6493 - 11.7002 - 0.6957\n",
            "011 - 0.7438 - 12.3852 - 0.6849\n",
            "012 - 0.8430 - 13.0720 - 0.6868\n",
            "013 - 0.9404 - 13.6787 - 0.6067\n",
            "014 - 1.0366 - 14.1732 - 0.4945\n",
            "015 - 1.1353 - 14.5280 - 0.3548\n",
            "016 - 1.2341 - 14.6782 - 0.1503\n",
            "017 - 1.2464 - 14.6800 - 0.0017\n",
            "* Melhor solucao: 1.2464138974294177\n"
          ]
        }
      ]
    },
    {
      "cell_type": "code",
      "source": [
        "0.1 + 0.2 == 0.3"
      ],
      "metadata": {
        "colab": {
          "base_uri": "https://localhost:8080/"
        },
        "id": "VmZj0mq3e2Tc",
        "outputId": "689dedf9-d69f-4f86-9f79-2abe5ed198e6"
      },
      "execution_count": 3,
      "outputs": [
        {
          "output_type": "execute_result",
          "data": {
            "text/plain": [
              "False"
            ]
          },
          "metadata": {},
          "execution_count": 3
        }
      ]
    },
    {
      "cell_type": "code",
      "source": [
        "0.1 + 0.2"
      ],
      "metadata": {
        "colab": {
          "base_uri": "https://localhost:8080/"
        },
        "id": "pcqVYcfVfLUV",
        "outputId": "b115baa5-fa5c-4854-b342-9298542f312b"
      },
      "execution_count": 4,
      "outputs": [
        {
          "output_type": "execute_result",
          "data": {
            "text/plain": [
              "0.30000000000000004"
            ]
          },
          "metadata": {},
          "execution_count": 4
        }
      ]
    },
    {
      "cell_type": "markdown",
      "source": [
        "## Busca Tabu"
      ],
      "metadata": {
        "id": "2BFSUFl5aPTo"
      }
    },
    {
      "cell_type": "markdown",
      "source": [
        "## Simulated Annealing"
      ],
      "metadata": {
        "id": "dOf3G6XZaU4B"
      }
    },
    {
      "cell_type": "code",
      "execution_count": 4,
      "metadata": {
        "id": "ZrJwoettZ-fD"
      },
      "outputs": [],
      "source": []
    }
  ]
}