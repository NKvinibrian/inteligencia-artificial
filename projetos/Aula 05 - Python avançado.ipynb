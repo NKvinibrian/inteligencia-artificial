{
  "nbformat": 4,
  "nbformat_minor": 0,
  "metadata": {
    "colab": {
      "name": "Aula02 - Python Avançado.ipynb",
      "provenance": []
    },
    "kernelspec": {
      "name": "python3",
      "display_name": "Python 3"
    }
  },
  "cells": [
    {
      "cell_type": "markdown",
      "metadata": {
        "id": "sejtgINLZ2Rx"
      },
      "source": [
        "# Programação Python Avançado 🐥\n",
        "\n",
        "---\n",
        "\n",
        "\n",
        "\n",
        "## Data classes\n",
        "\n",
        "As *data classes* foram introduzidas a partir do Python 3.7. Uma *data class* é uma classe que contém somente dados sem restrições.\n",
        "\n",
        "A vantagem de uso das *data classes* é várias funcionalidades já vem implementadas e são fáceis de serem parametrizadas. \n",
        "\n",
        "- Construtor para inicializar todos os parâmetros\n",
        "- Sobrescrita do operador de comparação `__eq__`\n",
        "- Sobrescrita dos métodos de `__repr__` e `__str__`\n",
        "- Representação de dados imutáveis\n",
        "- Suporte a herança\n"
      ]
    },
    {
      "cell_type": "code",
      "metadata": {
        "id": "GkwaxyFOaxsG"
      },
      "source": [
        "from dataclasses import dataclass\n",
        "\n",
        "@dataclass\n",
        "class Carta:\n",
        "    valor:str\n",
        "    naipe:str"
      ],
      "execution_count": null,
      "outputs": []
    },
    {
      "cell_type": "code",
      "metadata": {
        "id": "B979g5gzbqFk",
        "colab": {
          "base_uri": "https://localhost:8080/",
          "height": 75
        },
        "outputId": "d5ab9ec7-ece7-413a-e0ce-340fef975a56"
      },
      "source": [
        "carta1 = Carta('4', 'copas')\n",
        "carta2 = Carta('K', 'paus')\n",
        "carta3 = Carta(valor='Q', naipe='ouros')\n",
        "\n",
        "print(carta1)\n",
        "print(carta2)\n",
        "print(carta3)"
      ],
      "execution_count": null,
      "outputs": [
        {
          "output_type": "stream",
          "text": [
            "Carta(valor='4', naipe='copas')\n",
            "Carta(valor='K', naipe='paus')\n",
            "Carta(valor='Q', naipe='ouros')\n"
          ],
          "name": "stdout"
        }
      ]
    },
    {
      "cell_type": "code",
      "metadata": {
        "id": "ih7SvfT4cfyH",
        "colab": {
          "base_uri": "https://localhost:8080/",
          "height": 56
        },
        "outputId": "68ce3dcc-dac8-462e-baee-50318c5cec53"
      },
      "source": [
        "carta4 = Carta('J', 'espadinhas')\n",
        "print(carta4)\n",
        "\n",
        "carta4.valor = '3'\n",
        "carta4.naipe = 'copas'\n",
        "print(carta4)"
      ],
      "execution_count": null,
      "outputs": [
        {
          "output_type": "stream",
          "text": [
            "Carta(valor='J', naipe='espadinhas')\n",
            "Carta(valor='3', naipe='copas')\n"
          ],
          "name": "stdout"
        }
      ]
    },
    {
      "cell_type": "code",
      "metadata": {
        "id": "PDNYImBwdCPW",
        "colab": {
          "base_uri": "https://localhost:8080/",
          "height": 75
        },
        "outputId": "da3a398e-e152-4723-da62-990b86bf1ed0"
      },
      "source": [
        "@dataclass(frozen=True)\n",
        "class Ponto:\n",
        "    x: int = 0\n",
        "    y: int = 0\n",
        "\n",
        "p1 = Ponto()\n",
        "p2 = Ponto(3, 4)\n",
        "p3 = Ponto(x=1, y=1)\n",
        "\n",
        "print(p1)\n",
        "print(p2)\n",
        "print(p3)"
      ],
      "execution_count": null,
      "outputs": [
        {
          "output_type": "stream",
          "text": [
            "Ponto(x=0, y=0)\n",
            "Ponto(x=3, y=4)\n",
            "Ponto(x=1, y=1)\n"
          ],
          "name": "stdout"
        }
      ]
    },
    {
      "cell_type": "code",
      "metadata": {
        "id": "yPevINMCdYA7",
        "colab": {
          "base_uri": "https://localhost:8080/",
          "height": 296
        },
        "outputId": "df22d987-6371-4401-bee7-375404eeb724"
      },
      "source": [
        "p3 = Ponto(3, 5)\n",
        "print(p3)\n",
        "\n",
        "p3.x = 10 # ERRO!\n",
        "print(p3)"
      ],
      "execution_count": null,
      "outputs": [
        {
          "output_type": "stream",
          "text": [
            "Ponto(x=3, y=5)\n"
          ],
          "name": "stdout"
        },
        {
          "output_type": "error",
          "ename": "FrozenInstanceError",
          "evalue": "ignored",
          "traceback": [
            "\u001b[0;31m---------------------------------------------------------------------------\u001b[0m",
            "\u001b[0;31mFrozenInstanceError\u001b[0m                       Traceback (most recent call last)",
            "\u001b[0;32m<ipython-input-47-f2ecc474b54c>\u001b[0m in \u001b[0;36m<module>\u001b[0;34m()\u001b[0m\n\u001b[1;32m      2\u001b[0m \u001b[0mprint\u001b[0m\u001b[0;34m(\u001b[0m\u001b[0mp3\u001b[0m\u001b[0;34m)\u001b[0m\u001b[0;34m\u001b[0m\u001b[0;34m\u001b[0m\u001b[0m\n\u001b[1;32m      3\u001b[0m \u001b[0;34m\u001b[0m\u001b[0m\n\u001b[0;32m----> 4\u001b[0;31m \u001b[0mp3\u001b[0m\u001b[0;34m.\u001b[0m\u001b[0mx\u001b[0m \u001b[0;34m=\u001b[0m \u001b[0;36m10\u001b[0m \u001b[0;31m# ERRO!\u001b[0m\u001b[0;34m\u001b[0m\u001b[0;34m\u001b[0m\u001b[0m\n\u001b[0m\u001b[1;32m      5\u001b[0m \u001b[0mprint\u001b[0m\u001b[0;34m(\u001b[0m\u001b[0mp3\u001b[0m\u001b[0;34m)\u001b[0m\u001b[0;34m\u001b[0m\u001b[0;34m\u001b[0m\u001b[0m\n",
            "\u001b[0;32m<string>\u001b[0m in \u001b[0;36m__setattr__\u001b[0;34m(self, name, value)\u001b[0m\n",
            "\u001b[0;31mFrozenInstanceError\u001b[0m: cannot assign to field 'x'"
          ]
        }
      ]
    },
    {
      "cell_type": "code",
      "metadata": {
        "id": "EscpEPW2dxbJ",
        "colab": {
          "base_uri": "https://localhost:8080/",
          "height": 36
        },
        "outputId": "68ebff43-913b-4769-fd0e-6f2afc4e576b"
      },
      "source": [
        "from dataclasses import dataclass, field\n",
        "from typing import List\n",
        "\n",
        "@dataclass\n",
        "class Baralho:\n",
        "    cartas: List[Carta] = field(default_factory=list)\n",
        "\n",
        "baralho = Baralho()\n",
        "baralho.cartas.append(carta1)\n",
        "baralho.cartas.append(carta2)\n",
        "baralho.cartas.append(carta3)\n",
        "\n",
        "print(baralho)"
      ],
      "execution_count": null,
      "outputs": [
        {
          "output_type": "stream",
          "text": [
            "Baralho(cartas=[Carta(valor='4', naipe='copas'), Carta(valor='K', naipe='paus'), Carta(valor='Q', naipe='ouros')])\n"
          ],
          "name": "stdout"
        }
      ]
    },
    {
      "cell_type": "markdown",
      "metadata": {
        "id": "xuEPMT5EaEX2"
      },
      "source": [
        "## Numpy\n",
        "\n",
        "Numpy é uma biblioteca para computação científica. Oferece a utilização de vetores e matrizes de alta-performance."
      ]
    },
    {
      "cell_type": "code",
      "metadata": {
        "id": "OHtpJ-tee98D",
        "colab": {
          "base_uri": "https://localhost:8080/",
          "height": 94
        },
        "outputId": "33f2cd17-d6db-464e-c9d2-75dafe47251d"
      },
      "source": [
        "import numpy as np\n",
        "\n",
        "a = np.array([1, 2, 3])   \n",
        "print(type(a))            \n",
        "print(a.shape)            \n",
        "print(a[0], a[1], a[2])  \n",
        "\n",
        "a[0] = 5\n",
        "print(a) "
      ],
      "execution_count": null,
      "outputs": [
        {
          "output_type": "stream",
          "text": [
            "<class 'numpy.ndarray'>\n",
            "(3,)\n",
            "1 2 3\n",
            "[5 2 3]\n"
          ],
          "name": "stdout"
        }
      ]
    },
    {
      "cell_type": "code",
      "metadata": {
        "id": "EihBn_hTfKSO",
        "colab": {
          "base_uri": "https://localhost:8080/",
          "height": 56
        },
        "outputId": "3643887a-2e95-44dc-d4aa-157d11471a16"
      },
      "source": [
        "b = np.array([[1,2,3],\n",
        "              [4,5,6]]) \n",
        "print(b.shape)                  \n",
        "print(b[0, 0], b[0, 1], b[1, 0])  "
      ],
      "execution_count": null,
      "outputs": [
        {
          "output_type": "stream",
          "text": [
            "(2, 3)\n",
            "1 2 4\n"
          ],
          "name": "stdout"
        }
      ]
    },
    {
      "cell_type": "code",
      "metadata": {
        "id": "wvQtvoHnfd5Q",
        "colab": {
          "base_uri": "https://localhost:8080/",
          "height": 56
        },
        "outputId": "72325e73-4991-418d-ea36-1a59769c8e54"
      },
      "source": [
        "# Cria uma matriz com zeros\n",
        "a = np.zeros((2,2)) \n",
        "print(a) "
      ],
      "execution_count": null,
      "outputs": [
        {
          "output_type": "stream",
          "text": [
            "[[0. 0.]\n",
            " [0. 0.]]\n"
          ],
          "name": "stdout"
        }
      ]
    },
    {
      "cell_type": "code",
      "metadata": {
        "id": "bhiilKlwflYb",
        "colab": {
          "base_uri": "https://localhost:8080/",
          "height": 56
        },
        "outputId": "e01d0840-792c-4f55-ad65-d391fdb767e6"
      },
      "source": [
        "# Cria uma matriz com uns\n",
        "b = np.ones((2,2))\n",
        "print(b)"
      ],
      "execution_count": null,
      "outputs": [
        {
          "output_type": "stream",
          "text": [
            "[[1. 1.]\n",
            " [1. 1.]]\n"
          ],
          "name": "stdout"
        }
      ]
    },
    {
      "cell_type": "code",
      "metadata": {
        "id": "HoAqQJzlfuIv",
        "colab": {
          "base_uri": "https://localhost:8080/",
          "height": 56
        },
        "outputId": "c8c7bb04-8f4c-4e05-ff90-714f3e948211"
      },
      "source": [
        "# Cria uma matriz com 7s\n",
        "c = np.full((2,2), 7)  \n",
        "print(c)               "
      ],
      "execution_count": null,
      "outputs": [
        {
          "output_type": "stream",
          "text": [
            "[[7 7]\n",
            " [7 7]]\n"
          ],
          "name": "stdout"
        }
      ]
    },
    {
      "cell_type": "code",
      "metadata": {
        "id": "OFbMV-lKf0oC",
        "colab": {
          "base_uri": "https://localhost:8080/",
          "height": 56
        },
        "outputId": "316af50d-fe2e-4fe1-b5b3-06e32287c42e"
      },
      "source": [
        "# Cria uma matriz identidade\n",
        "d = np.eye(2)         \n",
        "print(d)              "
      ],
      "execution_count": null,
      "outputs": [
        {
          "output_type": "stream",
          "text": [
            "[[1. 0.]\n",
            " [0. 1.]]\n"
          ],
          "name": "stdout"
        }
      ]
    },
    {
      "cell_type": "code",
      "metadata": {
        "id": "VqGOqN-_f611",
        "colab": {
          "base_uri": "https://localhost:8080/",
          "height": 56
        },
        "outputId": "2951f4f5-592a-48d8-804b-337f915debcc"
      },
      "source": [
        "# Cria uma matriz aleatória\n",
        "e = np.random.random((2,2))  \n",
        "print(e) "
      ],
      "execution_count": null,
      "outputs": [
        {
          "output_type": "stream",
          "text": [
            "[[0.66966834 0.18415736]\n",
            " [0.00982995 0.96856404]]\n"
          ],
          "name": "stdout"
        }
      ]
    },
    {
      "cell_type": "code",
      "metadata": {
        "id": "ddP8F-P8gHx8",
        "colab": {
          "base_uri": "https://localhost:8080/",
          "height": 153
        },
        "outputId": "fab4c448-38b5-45a6-91bf-3ac9582b634e"
      },
      "source": [
        "# Seleciona uma fatia da matriz\n",
        "a = np.array([[1,2,3,4], [5,6,7,8], [9,10,11,12]])\n",
        "b = a[:2, 1:3]\n",
        "\n",
        "# lista[2:3]\n",
        "\n",
        "print('A =\\n', a)\n",
        "print('B =\\n', b)"
      ],
      "execution_count": null,
      "outputs": [
        {
          "output_type": "stream",
          "text": [
            "A =\n",
            " [[ 1  2  3  4]\n",
            " [ 5  6  7  8]\n",
            " [ 9 10 11 12]]\n",
            "B =\n",
            " [[2 3]\n",
            " [6 7]]\n"
          ],
          "name": "stdout"
        }
      ]
    },
    {
      "cell_type": "code",
      "metadata": {
        "id": "MdqR9ijuga8z",
        "colab": {
          "base_uri": "https://localhost:8080/",
          "height": 94
        },
        "outputId": "2863c870-5f6b-4ce6-954e-aacc9b9f4263"
      },
      "source": [
        "b[0, 0] = 77\n",
        "\n",
        "print('A =\\n', a)"
      ],
      "execution_count": null,
      "outputs": [
        {
          "output_type": "stream",
          "text": [
            "A =\n",
            " [[ 1 77  3  4]\n",
            " [ 5  6  7  8]\n",
            " [ 9 10 11 12]]\n"
          ],
          "name": "stdout"
        }
      ]
    },
    {
      "cell_type": "code",
      "metadata": {
        "id": "6289thPZhZ9Z",
        "colab": {
          "base_uri": "https://localhost:8080/",
          "height": 114
        },
        "outputId": "8480b399-247e-43bc-90d6-6d07cbcbb9a6"
      },
      "source": [
        "# Indexação booleana\n",
        "a = np.array([[1,2], [3, 4], [5, 6]])\n",
        "\n",
        "bool_idx = (a > 2)\n",
        "print(bool_idx)\n",
        "\n",
        "print(a[bool_idx])\n",
        "print(a[a > 2])"
      ],
      "execution_count": null,
      "outputs": [
        {
          "output_type": "stream",
          "text": [
            "[[False False]\n",
            " [ True  True]\n",
            " [ True  True]]\n",
            "[3 4 5 6]\n",
            "[3 4 5 6]\n"
          ],
          "name": "stdout"
        }
      ]
    },
    {
      "cell_type": "code",
      "metadata": {
        "id": "Gn3uRX2Whpmb",
        "colab": {
          "base_uri": "https://localhost:8080/",
          "height": 75
        },
        "outputId": "12571b86-a039-4b6c-d566-a4f7c01d8a98"
      },
      "source": [
        "# Tipos de dados\n",
        "x = np.array([1, 2])  \n",
        "print(x.dtype)\n",
        "\n",
        "x = np.array([1.0, 2.0])\n",
        "print(x.dtype)\n",
        "\n",
        "x = np.array([1, 2], dtype=np.int64)\n",
        "print(x.dtype)"
      ],
      "execution_count": null,
      "outputs": [
        {
          "output_type": "stream",
          "text": [
            "int64\n",
            "float64\n",
            "int64\n"
          ],
          "name": "stdout"
        }
      ]
    },
    {
      "cell_type": "markdown",
      "metadata": {
        "id": "vNAFxmkcirl0"
      },
      "source": [
        "### Operações"
      ]
    },
    {
      "cell_type": "code",
      "metadata": {
        "id": "y3CuQ_7DiH-S",
        "colab": {
          "base_uri": "https://localhost:8080/",
          "height": 211
        },
        "outputId": "dbe0cb5b-d7f7-4f28-a78b-d0e8080bd1c1"
      },
      "source": [
        "x = np.array([[1,2],[3,4]], dtype=np.float64)\n",
        "y = np.array([[5,6],[7,8]], dtype=np.float64)\n",
        "\n",
        "#print(x + y)\n",
        "print(np.add(x, y))\n",
        "\n",
        "#print(x - y)\n",
        "print(np.subtract(x, y))\n",
        "\n",
        "#print(x * y)\n",
        "print(np.multiply(x, y))\n",
        "\n",
        "#print(x / y)\n",
        "print(np.divide(x, y))\n",
        "\n",
        "print(np.sqrt(x))"
      ],
      "execution_count": null,
      "outputs": [
        {
          "output_type": "stream",
          "text": [
            "[[ 6.  8.]\n",
            " [10. 12.]]\n",
            "[[-4. -4.]\n",
            " [-4. -4.]]\n",
            "[[ 5. 12.]\n",
            " [21. 32.]]\n",
            "[[0.2        0.33333333]\n",
            " [0.42857143 0.5       ]]\n",
            "[[1.         1.41421356]\n",
            " [1.73205081 2.        ]]\n"
          ],
          "name": "stdout"
        }
      ]
    },
    {
      "cell_type": "code",
      "metadata": {
        "id": "PlfIIqFcixIX",
        "colab": {
          "base_uri": "https://localhost:8080/",
          "height": 75
        },
        "outputId": "0f8a4985-ef31-4699-aeb2-f62749e7e038"
      },
      "source": [
        "x = np.array([[1,2],[3,4]])\n",
        "y = np.array([[5,6],[7,8]])\n",
        "\n",
        "print(x.dot(y))\n",
        "#print(np.dot(x, y))\n",
        "\n",
        "v = np.array([9,10])\n",
        "w = np.array([11, 12])\n",
        "\n",
        "print(v.dot(w))\n",
        "#print(np.dot(v, w))\n"
      ],
      "execution_count": null,
      "outputs": [
        {
          "output_type": "stream",
          "text": [
            "[[19 22]\n",
            " [43 50]]\n",
            "219\n"
          ],
          "name": "stdout"
        }
      ]
    },
    {
      "cell_type": "code",
      "metadata": {
        "id": "HLLlUOFWjYbg",
        "colab": {
          "base_uri": "https://localhost:8080/",
          "height": 94
        },
        "outputId": "cdc98c57-e583-48e3-84c5-9af1cddef6cf"
      },
      "source": [
        "# Transposta de uma matriz\n",
        "x = np.array([[1,2],[3,4]])\n",
        "\n",
        "print(x)\n",
        "print(x.T)"
      ],
      "execution_count": null,
      "outputs": [
        {
          "output_type": "stream",
          "text": [
            "[[1 2]\n",
            " [3 4]]\n",
            "[[1 3]\n",
            " [2 4]]\n"
          ],
          "name": "stdout"
        }
      ]
    },
    {
      "cell_type": "markdown",
      "metadata": {
        "id": "pprENpsdaHcC"
      },
      "source": [
        "## Pandas"
      ]
    },
    {
      "cell_type": "code",
      "metadata": {
        "id": "LHR9ODZJju1-",
        "colab": {
          "base_uri": "https://localhost:8080/",
          "height": 288
        },
        "outputId": "bc0f34ef-a9fc-47ba-e81e-6b4ae9748c4a"
      },
      "source": [
        "import numpy as np\n",
        "import pandas as pd\n",
        "\n",
        "# Criando uma Serie\n",
        "s = pd.Series([1, 3, 5, np.nan, 6, 8])\n",
        "print(s)\n",
        "\n",
        "# Criando um Dataframe\n",
        "df = pd.DataFrame(np.random.randn(6, 4))\n",
        "print(df)"
      ],
      "execution_count": null,
      "outputs": [
        {
          "output_type": "stream",
          "text": [
            "0    1.0\n",
            "1    3.0\n",
            "2    5.0\n",
            "3    NaN\n",
            "4    6.0\n",
            "5    8.0\n",
            "dtype: float64\n",
            "          0         1         2         3\n",
            "0  0.769319  0.359988 -0.848426 -1.027449\n",
            "1  0.042838  0.907680 -0.151509 -0.015764\n",
            "2  0.060718  1.454284 -0.504820  0.494322\n",
            "3 -0.078760 -0.784879 -0.202529 -0.323693\n",
            "4  0.343759 -0.124571 -0.374346 -0.168120\n",
            "5  0.489918  0.093358  0.422607  2.426590\n"
          ],
          "name": "stdout"
        }
      ]
    },
    {
      "cell_type": "code",
      "metadata": {
        "id": "MJxCBuEzlHTp",
        "colab": {
          "base_uri": "https://localhost:8080/",
          "height": 153
        },
        "outputId": "d24d0c28-0908-4d7e-ffca-c672a94b3b1b"
      },
      "source": [
        "# Passando o nome das linhas e colunas\n",
        "df = pd.DataFrame(np.random.randn(6, 4), index=list('ABCDEF'), columns=list('ABCD'))\n",
        "print(df)\n"
      ],
      "execution_count": null,
      "outputs": [
        {
          "output_type": "stream",
          "text": [
            "          A         B         C         D\n",
            "A -1.718753  0.100824  0.105931  0.174252\n",
            "B -0.161030 -0.674524 -0.874370  1.502434\n",
            "C  1.438019 -0.022273 -2.232227  0.560568\n",
            "D  1.453960  0.007467 -0.769017 -0.562516\n",
            "E  0.279268  0.782655 -1.583777 -0.687524\n",
            "F -0.955058 -0.312042  0.222821  2.727108\n"
          ],
          "name": "stdout"
        }
      ]
    },
    {
      "cell_type": "code",
      "metadata": {
        "id": "QMkRckegk3Rc"
      },
      "source": [
        "# Criando dataframe a partir de um dict\n",
        "df2 = pd.DataFrame({'A': 1.,\n",
        "                    'B': pd.Timestamp('20130102'),\n",
        "                    'C': pd.Series(1, index=list(range(4)), dtype='float32'),\n",
        "                    'D': np.array([3] * 4, dtype='int32'),\n",
        "                    'E': pd.Categorical([\"teste\", \"treino\", \"teste\", \"treino\"]),\n",
        "                    'F': 'foo'})"
      ],
      "execution_count": null,
      "outputs": []
    },
    {
      "cell_type": "code",
      "metadata": {
        "id": "hPS2yRmMlUP8"
      },
      "source": [
        "# Visualizando os dados\n",
        "dates = pd.date_range('20200901', periods=10)\n",
        "df = pd.DataFrame(np.random.randn(10, 4), index=dates, columns=list('ABCD'))"
      ],
      "execution_count": null,
      "outputs": []
    },
    {
      "cell_type": "code",
      "metadata": {
        "id": "JtFCB_cvhI5c",
        "colab": {
          "base_uri": "https://localhost:8080/",
          "height": 363
        },
        "outputId": "b01d12d9-60f1-4d24-9405-9dd520bc2e6b"
      },
      "source": [
        "df"
      ],
      "execution_count": null,
      "outputs": [
        {
          "output_type": "execute_result",
          "data": {
            "text/html": [
              "<div>\n",
              "<style scoped>\n",
              "    .dataframe tbody tr th:only-of-type {\n",
              "        vertical-align: middle;\n",
              "    }\n",
              "\n",
              "    .dataframe tbody tr th {\n",
              "        vertical-align: top;\n",
              "    }\n",
              "\n",
              "    .dataframe thead th {\n",
              "        text-align: right;\n",
              "    }\n",
              "</style>\n",
              "<table border=\"1\" class=\"dataframe\">\n",
              "  <thead>\n",
              "    <tr style=\"text-align: right;\">\n",
              "      <th></th>\n",
              "      <th>A</th>\n",
              "      <th>B</th>\n",
              "      <th>C</th>\n",
              "      <th>D</th>\n",
              "    </tr>\n",
              "  </thead>\n",
              "  <tbody>\n",
              "    <tr>\n",
              "      <th>2020-09-01</th>\n",
              "      <td>-2.104635</td>\n",
              "      <td>-0.136122</td>\n",
              "      <td>-0.310485</td>\n",
              "      <td>-1.404145</td>\n",
              "    </tr>\n",
              "    <tr>\n",
              "      <th>2020-09-02</th>\n",
              "      <td>0.666680</td>\n",
              "      <td>-0.160861</td>\n",
              "      <td>-0.041246</td>\n",
              "      <td>-0.709716</td>\n",
              "    </tr>\n",
              "    <tr>\n",
              "      <th>2020-09-03</th>\n",
              "      <td>0.816202</td>\n",
              "      <td>0.171767</td>\n",
              "      <td>-1.501401</td>\n",
              "      <td>-0.025870</td>\n",
              "    </tr>\n",
              "    <tr>\n",
              "      <th>2020-09-04</th>\n",
              "      <td>0.263428</td>\n",
              "      <td>0.149646</td>\n",
              "      <td>0.003573</td>\n",
              "      <td>0.005116</td>\n",
              "    </tr>\n",
              "    <tr>\n",
              "      <th>2020-09-05</th>\n",
              "      <td>0.529207</td>\n",
              "      <td>-0.283964</td>\n",
              "      <td>0.477704</td>\n",
              "      <td>0.123173</td>\n",
              "    </tr>\n",
              "    <tr>\n",
              "      <th>2020-09-06</th>\n",
              "      <td>2.359600</td>\n",
              "      <td>-0.155144</td>\n",
              "      <td>1.738644</td>\n",
              "      <td>1.732793</td>\n",
              "    </tr>\n",
              "    <tr>\n",
              "      <th>2020-09-07</th>\n",
              "      <td>1.258376</td>\n",
              "      <td>0.163590</td>\n",
              "      <td>1.210463</td>\n",
              "      <td>1.849546</td>\n",
              "    </tr>\n",
              "    <tr>\n",
              "      <th>2020-09-08</th>\n",
              "      <td>-1.051489</td>\n",
              "      <td>-0.259404</td>\n",
              "      <td>0.104084</td>\n",
              "      <td>0.093460</td>\n",
              "    </tr>\n",
              "    <tr>\n",
              "      <th>2020-09-09</th>\n",
              "      <td>-0.302262</td>\n",
              "      <td>-0.621633</td>\n",
              "      <td>0.570294</td>\n",
              "      <td>-0.694591</td>\n",
              "    </tr>\n",
              "    <tr>\n",
              "      <th>2020-09-10</th>\n",
              "      <td>0.740744</td>\n",
              "      <td>-0.442086</td>\n",
              "      <td>0.574647</td>\n",
              "      <td>-1.163627</td>\n",
              "    </tr>\n",
              "  </tbody>\n",
              "</table>\n",
              "</div>"
            ],
            "text/plain": [
              "                   A         B         C         D\n",
              "2020-09-01 -2.104635 -0.136122 -0.310485 -1.404145\n",
              "2020-09-02  0.666680 -0.160861 -0.041246 -0.709716\n",
              "2020-09-03  0.816202  0.171767 -1.501401 -0.025870\n",
              "2020-09-04  0.263428  0.149646  0.003573  0.005116\n",
              "2020-09-05  0.529207 -0.283964  0.477704  0.123173\n",
              "2020-09-06  2.359600 -0.155144  1.738644  1.732793\n",
              "2020-09-07  1.258376  0.163590  1.210463  1.849546\n",
              "2020-09-08 -1.051489 -0.259404  0.104084  0.093460\n",
              "2020-09-09 -0.302262 -0.621633  0.570294 -0.694591\n",
              "2020-09-10  0.740744 -0.442086  0.574647 -1.163627"
            ]
          },
          "metadata": {
            "tags": []
          },
          "execution_count": 49
        }
      ]
    },
    {
      "cell_type": "code",
      "metadata": {
        "id": "uVpCVlRilj_6",
        "colab": {
          "base_uri": "https://localhost:8080/",
          "height": 206
        },
        "outputId": "75300224-3502-4c0d-a98b-f5453fd8d795"
      },
      "source": [
        "df.head()"
      ],
      "execution_count": null,
      "outputs": [
        {
          "output_type": "execute_result",
          "data": {
            "text/html": [
              "<div>\n",
              "<style scoped>\n",
              "    .dataframe tbody tr th:only-of-type {\n",
              "        vertical-align: middle;\n",
              "    }\n",
              "\n",
              "    .dataframe tbody tr th {\n",
              "        vertical-align: top;\n",
              "    }\n",
              "\n",
              "    .dataframe thead th {\n",
              "        text-align: right;\n",
              "    }\n",
              "</style>\n",
              "<table border=\"1\" class=\"dataframe\">\n",
              "  <thead>\n",
              "    <tr style=\"text-align: right;\">\n",
              "      <th></th>\n",
              "      <th>A</th>\n",
              "      <th>B</th>\n",
              "      <th>C</th>\n",
              "      <th>D</th>\n",
              "    </tr>\n",
              "  </thead>\n",
              "  <tbody>\n",
              "    <tr>\n",
              "      <th>2020-09-01</th>\n",
              "      <td>-2.104635</td>\n",
              "      <td>-0.136122</td>\n",
              "      <td>-0.310485</td>\n",
              "      <td>-1.404145</td>\n",
              "    </tr>\n",
              "    <tr>\n",
              "      <th>2020-09-02</th>\n",
              "      <td>0.666680</td>\n",
              "      <td>-0.160861</td>\n",
              "      <td>-0.041246</td>\n",
              "      <td>-0.709716</td>\n",
              "    </tr>\n",
              "    <tr>\n",
              "      <th>2020-09-03</th>\n",
              "      <td>0.816202</td>\n",
              "      <td>0.171767</td>\n",
              "      <td>-1.501401</td>\n",
              "      <td>-0.025870</td>\n",
              "    </tr>\n",
              "    <tr>\n",
              "      <th>2020-09-04</th>\n",
              "      <td>0.263428</td>\n",
              "      <td>0.149646</td>\n",
              "      <td>0.003573</td>\n",
              "      <td>0.005116</td>\n",
              "    </tr>\n",
              "    <tr>\n",
              "      <th>2020-09-05</th>\n",
              "      <td>0.529207</td>\n",
              "      <td>-0.283964</td>\n",
              "      <td>0.477704</td>\n",
              "      <td>0.123173</td>\n",
              "    </tr>\n",
              "  </tbody>\n",
              "</table>\n",
              "</div>"
            ],
            "text/plain": [
              "                   A         B         C         D\n",
              "2020-09-01 -2.104635 -0.136122 -0.310485 -1.404145\n",
              "2020-09-02  0.666680 -0.160861 -0.041246 -0.709716\n",
              "2020-09-03  0.816202  0.171767 -1.501401 -0.025870\n",
              "2020-09-04  0.263428  0.149646  0.003573  0.005116\n",
              "2020-09-05  0.529207 -0.283964  0.477704  0.123173"
            ]
          },
          "metadata": {
            "tags": []
          },
          "execution_count": 35
        }
      ]
    },
    {
      "cell_type": "code",
      "metadata": {
        "id": "EXCZmu4xlmcn",
        "colab": {
          "base_uri": "https://localhost:8080/",
          "height": 206
        },
        "outputId": "091f2981-a755-4244-c074-67e921770d0f"
      },
      "source": [
        "df.tail()"
      ],
      "execution_count": null,
      "outputs": [
        {
          "output_type": "execute_result",
          "data": {
            "text/html": [
              "<div>\n",
              "<style scoped>\n",
              "    .dataframe tbody tr th:only-of-type {\n",
              "        vertical-align: middle;\n",
              "    }\n",
              "\n",
              "    .dataframe tbody tr th {\n",
              "        vertical-align: top;\n",
              "    }\n",
              "\n",
              "    .dataframe thead th {\n",
              "        text-align: right;\n",
              "    }\n",
              "</style>\n",
              "<table border=\"1\" class=\"dataframe\">\n",
              "  <thead>\n",
              "    <tr style=\"text-align: right;\">\n",
              "      <th></th>\n",
              "      <th>A</th>\n",
              "      <th>B</th>\n",
              "      <th>C</th>\n",
              "      <th>D</th>\n",
              "    </tr>\n",
              "  </thead>\n",
              "  <tbody>\n",
              "    <tr>\n",
              "      <th>2020-09-06</th>\n",
              "      <td>2.359600</td>\n",
              "      <td>-0.155144</td>\n",
              "      <td>1.738644</td>\n",
              "      <td>1.732793</td>\n",
              "    </tr>\n",
              "    <tr>\n",
              "      <th>2020-09-07</th>\n",
              "      <td>1.258376</td>\n",
              "      <td>0.163590</td>\n",
              "      <td>1.210463</td>\n",
              "      <td>1.849546</td>\n",
              "    </tr>\n",
              "    <tr>\n",
              "      <th>2020-09-08</th>\n",
              "      <td>-1.051489</td>\n",
              "      <td>-0.259404</td>\n",
              "      <td>0.104084</td>\n",
              "      <td>0.093460</td>\n",
              "    </tr>\n",
              "    <tr>\n",
              "      <th>2020-09-09</th>\n",
              "      <td>-0.302262</td>\n",
              "      <td>-0.621633</td>\n",
              "      <td>0.570294</td>\n",
              "      <td>-0.694591</td>\n",
              "    </tr>\n",
              "    <tr>\n",
              "      <th>2020-09-10</th>\n",
              "      <td>0.740744</td>\n",
              "      <td>-0.442086</td>\n",
              "      <td>0.574647</td>\n",
              "      <td>-1.163627</td>\n",
              "    </tr>\n",
              "  </tbody>\n",
              "</table>\n",
              "</div>"
            ],
            "text/plain": [
              "                   A         B         C         D\n",
              "2020-09-06  2.359600 -0.155144  1.738644  1.732793\n",
              "2020-09-07  1.258376  0.163590  1.210463  1.849546\n",
              "2020-09-08 -1.051489 -0.259404  0.104084  0.093460\n",
              "2020-09-09 -0.302262 -0.621633  0.570294 -0.694591\n",
              "2020-09-10  0.740744 -0.442086  0.574647 -1.163627"
            ]
          },
          "metadata": {
            "tags": []
          },
          "execution_count": 36
        }
      ]
    },
    {
      "cell_type": "code",
      "metadata": {
        "id": "almJwhT_lxGn",
        "colab": {
          "base_uri": "https://localhost:8080/",
          "height": 94
        },
        "outputId": "e08ec3c5-c14d-4f29-aaf5-714d25bf2dc9"
      },
      "source": [
        "df.index"
      ],
      "execution_count": null,
      "outputs": [
        {
          "output_type": "execute_result",
          "data": {
            "text/plain": [
              "DatetimeIndex(['2020-09-01', '2020-09-02', '2020-09-03', '2020-09-04',\n",
              "               '2020-09-05', '2020-09-06', '2020-09-07', '2020-09-08',\n",
              "               '2020-09-09', '2020-09-10'],\n",
              "              dtype='datetime64[ns]', freq='D')"
            ]
          },
          "metadata": {
            "tags": []
          },
          "execution_count": 37
        }
      ]
    },
    {
      "cell_type": "code",
      "metadata": {
        "id": "iK_9Vd6kl0ZM",
        "colab": {
          "base_uri": "https://localhost:8080/",
          "height": 36
        },
        "outputId": "5275008b-e9cf-4af8-b23c-ac16819f7fa4"
      },
      "source": [
        "df.columns"
      ],
      "execution_count": null,
      "outputs": [
        {
          "output_type": "execute_result",
          "data": {
            "text/plain": [
              "Index(['A', 'B', 'C', 'D'], dtype='object')"
            ]
          },
          "metadata": {
            "tags": []
          },
          "execution_count": 38
        }
      ]
    },
    {
      "cell_type": "code",
      "metadata": {
        "id": "9zLqoHqgl6CI",
        "colab": {
          "base_uri": "https://localhost:8080/",
          "height": 211
        },
        "outputId": "3f0dbe90-18d1-458a-d9a8-b9ff5d749439"
      },
      "source": [
        "df.to_numpy()"
      ],
      "execution_count": null,
      "outputs": [
        {
          "output_type": "execute_result",
          "data": {
            "text/plain": [
              "array([[-2.10463521, -0.13612155, -0.31048476, -1.40414537],\n",
              "       [ 0.66668014, -0.16086088, -0.04124568, -0.70971649],\n",
              "       [ 0.81620236,  0.17176669, -1.50140145, -0.02586959],\n",
              "       [ 0.26342782,  0.1496458 ,  0.00357257,  0.00511645],\n",
              "       [ 0.52920666, -0.28396388,  0.47770427,  0.12317285],\n",
              "       [ 2.35960042, -0.15514376,  1.73864417,  1.73279267],\n",
              "       [ 1.2583756 ,  0.16359018,  1.21046282,  1.8495458 ],\n",
              "       [-1.05148852, -0.25940409,  0.10408384,  0.09346012],\n",
              "       [-0.30226193, -0.62163252,  0.57029401, -0.69459056],\n",
              "       [ 0.74074447, -0.44208613,  0.57464688, -1.16362684]])"
            ]
          },
          "metadata": {
            "tags": []
          },
          "execution_count": 39
        }
      ]
    },
    {
      "cell_type": "code",
      "metadata": {
        "id": "FU5Cz4NTmCpl",
        "colab": {
          "base_uri": "https://localhost:8080/",
          "height": 363
        },
        "outputId": "92fa366e-9206-45cb-acd6-146bd7628977"
      },
      "source": [
        "df.sort_index(axis=1, ascending=False)"
      ],
      "execution_count": null,
      "outputs": [
        {
          "output_type": "execute_result",
          "data": {
            "text/html": [
              "<div>\n",
              "<style scoped>\n",
              "    .dataframe tbody tr th:only-of-type {\n",
              "        vertical-align: middle;\n",
              "    }\n",
              "\n",
              "    .dataframe tbody tr th {\n",
              "        vertical-align: top;\n",
              "    }\n",
              "\n",
              "    .dataframe thead th {\n",
              "        text-align: right;\n",
              "    }\n",
              "</style>\n",
              "<table border=\"1\" class=\"dataframe\">\n",
              "  <thead>\n",
              "    <tr style=\"text-align: right;\">\n",
              "      <th></th>\n",
              "      <th>D</th>\n",
              "      <th>C</th>\n",
              "      <th>B</th>\n",
              "      <th>A</th>\n",
              "    </tr>\n",
              "  </thead>\n",
              "  <tbody>\n",
              "    <tr>\n",
              "      <th>2020-09-01</th>\n",
              "      <td>-1.404145</td>\n",
              "      <td>-0.310485</td>\n",
              "      <td>-0.136122</td>\n",
              "      <td>-2.104635</td>\n",
              "    </tr>\n",
              "    <tr>\n",
              "      <th>2020-09-02</th>\n",
              "      <td>-0.709716</td>\n",
              "      <td>-0.041246</td>\n",
              "      <td>-0.160861</td>\n",
              "      <td>0.666680</td>\n",
              "    </tr>\n",
              "    <tr>\n",
              "      <th>2020-09-03</th>\n",
              "      <td>-0.025870</td>\n",
              "      <td>-1.501401</td>\n",
              "      <td>0.171767</td>\n",
              "      <td>0.816202</td>\n",
              "    </tr>\n",
              "    <tr>\n",
              "      <th>2020-09-04</th>\n",
              "      <td>0.005116</td>\n",
              "      <td>0.003573</td>\n",
              "      <td>0.149646</td>\n",
              "      <td>0.263428</td>\n",
              "    </tr>\n",
              "    <tr>\n",
              "      <th>2020-09-05</th>\n",
              "      <td>0.123173</td>\n",
              "      <td>0.477704</td>\n",
              "      <td>-0.283964</td>\n",
              "      <td>0.529207</td>\n",
              "    </tr>\n",
              "    <tr>\n",
              "      <th>2020-09-06</th>\n",
              "      <td>1.732793</td>\n",
              "      <td>1.738644</td>\n",
              "      <td>-0.155144</td>\n",
              "      <td>2.359600</td>\n",
              "    </tr>\n",
              "    <tr>\n",
              "      <th>2020-09-07</th>\n",
              "      <td>1.849546</td>\n",
              "      <td>1.210463</td>\n",
              "      <td>0.163590</td>\n",
              "      <td>1.258376</td>\n",
              "    </tr>\n",
              "    <tr>\n",
              "      <th>2020-09-08</th>\n",
              "      <td>0.093460</td>\n",
              "      <td>0.104084</td>\n",
              "      <td>-0.259404</td>\n",
              "      <td>-1.051489</td>\n",
              "    </tr>\n",
              "    <tr>\n",
              "      <th>2020-09-09</th>\n",
              "      <td>-0.694591</td>\n",
              "      <td>0.570294</td>\n",
              "      <td>-0.621633</td>\n",
              "      <td>-0.302262</td>\n",
              "    </tr>\n",
              "    <tr>\n",
              "      <th>2020-09-10</th>\n",
              "      <td>-1.163627</td>\n",
              "      <td>0.574647</td>\n",
              "      <td>-0.442086</td>\n",
              "      <td>0.740744</td>\n",
              "    </tr>\n",
              "  </tbody>\n",
              "</table>\n",
              "</div>"
            ],
            "text/plain": [
              "                   D         C         B         A\n",
              "2020-09-01 -1.404145 -0.310485 -0.136122 -2.104635\n",
              "2020-09-02 -0.709716 -0.041246 -0.160861  0.666680\n",
              "2020-09-03 -0.025870 -1.501401  0.171767  0.816202\n",
              "2020-09-04  0.005116  0.003573  0.149646  0.263428\n",
              "2020-09-05  0.123173  0.477704 -0.283964  0.529207\n",
              "2020-09-06  1.732793  1.738644 -0.155144  2.359600\n",
              "2020-09-07  1.849546  1.210463  0.163590  1.258376\n",
              "2020-09-08  0.093460  0.104084 -0.259404 -1.051489\n",
              "2020-09-09 -0.694591  0.570294 -0.621633 -0.302262\n",
              "2020-09-10 -1.163627  0.574647 -0.442086  0.740744"
            ]
          },
          "metadata": {
            "tags": []
          },
          "execution_count": 40
        }
      ]
    },
    {
      "cell_type": "code",
      "metadata": {
        "id": "EscRO3vQmDgD",
        "colab": {
          "base_uri": "https://localhost:8080/",
          "height": 363
        },
        "outputId": "f6827628-fc3b-473d-a48b-204a75024df9"
      },
      "source": [
        "df.sort_values(by='B')"
      ],
      "execution_count": null,
      "outputs": [
        {
          "output_type": "execute_result",
          "data": {
            "text/html": [
              "<div>\n",
              "<style scoped>\n",
              "    .dataframe tbody tr th:only-of-type {\n",
              "        vertical-align: middle;\n",
              "    }\n",
              "\n",
              "    .dataframe tbody tr th {\n",
              "        vertical-align: top;\n",
              "    }\n",
              "\n",
              "    .dataframe thead th {\n",
              "        text-align: right;\n",
              "    }\n",
              "</style>\n",
              "<table border=\"1\" class=\"dataframe\">\n",
              "  <thead>\n",
              "    <tr style=\"text-align: right;\">\n",
              "      <th></th>\n",
              "      <th>A</th>\n",
              "      <th>B</th>\n",
              "      <th>C</th>\n",
              "      <th>D</th>\n",
              "    </tr>\n",
              "  </thead>\n",
              "  <tbody>\n",
              "    <tr>\n",
              "      <th>2020-09-09</th>\n",
              "      <td>-0.302262</td>\n",
              "      <td>-0.621633</td>\n",
              "      <td>0.570294</td>\n",
              "      <td>-0.694591</td>\n",
              "    </tr>\n",
              "    <tr>\n",
              "      <th>2020-09-10</th>\n",
              "      <td>0.740744</td>\n",
              "      <td>-0.442086</td>\n",
              "      <td>0.574647</td>\n",
              "      <td>-1.163627</td>\n",
              "    </tr>\n",
              "    <tr>\n",
              "      <th>2020-09-05</th>\n",
              "      <td>0.529207</td>\n",
              "      <td>-0.283964</td>\n",
              "      <td>0.477704</td>\n",
              "      <td>0.123173</td>\n",
              "    </tr>\n",
              "    <tr>\n",
              "      <th>2020-09-08</th>\n",
              "      <td>-1.051489</td>\n",
              "      <td>-0.259404</td>\n",
              "      <td>0.104084</td>\n",
              "      <td>0.093460</td>\n",
              "    </tr>\n",
              "    <tr>\n",
              "      <th>2020-09-02</th>\n",
              "      <td>0.666680</td>\n",
              "      <td>-0.160861</td>\n",
              "      <td>-0.041246</td>\n",
              "      <td>-0.709716</td>\n",
              "    </tr>\n",
              "    <tr>\n",
              "      <th>2020-09-06</th>\n",
              "      <td>2.359600</td>\n",
              "      <td>-0.155144</td>\n",
              "      <td>1.738644</td>\n",
              "      <td>1.732793</td>\n",
              "    </tr>\n",
              "    <tr>\n",
              "      <th>2020-09-01</th>\n",
              "      <td>-2.104635</td>\n",
              "      <td>-0.136122</td>\n",
              "      <td>-0.310485</td>\n",
              "      <td>-1.404145</td>\n",
              "    </tr>\n",
              "    <tr>\n",
              "      <th>2020-09-04</th>\n",
              "      <td>0.263428</td>\n",
              "      <td>0.149646</td>\n",
              "      <td>0.003573</td>\n",
              "      <td>0.005116</td>\n",
              "    </tr>\n",
              "    <tr>\n",
              "      <th>2020-09-07</th>\n",
              "      <td>1.258376</td>\n",
              "      <td>0.163590</td>\n",
              "      <td>1.210463</td>\n",
              "      <td>1.849546</td>\n",
              "    </tr>\n",
              "    <tr>\n",
              "      <th>2020-09-03</th>\n",
              "      <td>0.816202</td>\n",
              "      <td>0.171767</td>\n",
              "      <td>-1.501401</td>\n",
              "      <td>-0.025870</td>\n",
              "    </tr>\n",
              "  </tbody>\n",
              "</table>\n",
              "</div>"
            ],
            "text/plain": [
              "                   A         B         C         D\n",
              "2020-09-09 -0.302262 -0.621633  0.570294 -0.694591\n",
              "2020-09-10  0.740744 -0.442086  0.574647 -1.163627\n",
              "2020-09-05  0.529207 -0.283964  0.477704  0.123173\n",
              "2020-09-08 -1.051489 -0.259404  0.104084  0.093460\n",
              "2020-09-02  0.666680 -0.160861 -0.041246 -0.709716\n",
              "2020-09-06  2.359600 -0.155144  1.738644  1.732793\n",
              "2020-09-01 -2.104635 -0.136122 -0.310485 -1.404145\n",
              "2020-09-04  0.263428  0.149646  0.003573  0.005116\n",
              "2020-09-07  1.258376  0.163590  1.210463  1.849546\n",
              "2020-09-03  0.816202  0.171767 -1.501401 -0.025870"
            ]
          },
          "metadata": {
            "tags": []
          },
          "execution_count": 41
        }
      ]
    },
    {
      "cell_type": "code",
      "metadata": {
        "id": "M-FNLowgmJMl",
        "colab": {
          "base_uri": "https://localhost:8080/",
          "height": 230
        },
        "outputId": "b399ea2d-f6f1-4248-e6ee-08408848a164"
      },
      "source": [
        "df['A']"
      ],
      "execution_count": null,
      "outputs": [
        {
          "output_type": "execute_result",
          "data": {
            "text/plain": [
              "2020-09-01   -2.104635\n",
              "2020-09-02    0.666680\n",
              "2020-09-03    0.816202\n",
              "2020-09-04    0.263428\n",
              "2020-09-05    0.529207\n",
              "2020-09-06    2.359600\n",
              "2020-09-07    1.258376\n",
              "2020-09-08   -1.051489\n",
              "2020-09-09   -0.302262\n",
              "2020-09-10    0.740744\n",
              "Freq: D, Name: A, dtype: float64"
            ]
          },
          "metadata": {
            "tags": []
          },
          "execution_count": 42
        }
      ]
    },
    {
      "cell_type": "code",
      "metadata": {
        "id": "-4o2KEyRmJ1M",
        "colab": {
          "base_uri": "https://localhost:8080/",
          "height": 143
        },
        "outputId": "730f740f-a51d-430f-c69e-f2e52b7b28c7"
      },
      "source": [
        "df[0:3]"
      ],
      "execution_count": null,
      "outputs": [
        {
          "output_type": "execute_result",
          "data": {
            "text/html": [
              "<div>\n",
              "<style scoped>\n",
              "    .dataframe tbody tr th:only-of-type {\n",
              "        vertical-align: middle;\n",
              "    }\n",
              "\n",
              "    .dataframe tbody tr th {\n",
              "        vertical-align: top;\n",
              "    }\n",
              "\n",
              "    .dataframe thead th {\n",
              "        text-align: right;\n",
              "    }\n",
              "</style>\n",
              "<table border=\"1\" class=\"dataframe\">\n",
              "  <thead>\n",
              "    <tr style=\"text-align: right;\">\n",
              "      <th></th>\n",
              "      <th>A</th>\n",
              "      <th>B</th>\n",
              "      <th>C</th>\n",
              "      <th>D</th>\n",
              "    </tr>\n",
              "  </thead>\n",
              "  <tbody>\n",
              "    <tr>\n",
              "      <th>2020-09-01</th>\n",
              "      <td>-2.104635</td>\n",
              "      <td>-0.136122</td>\n",
              "      <td>-0.310485</td>\n",
              "      <td>-1.404145</td>\n",
              "    </tr>\n",
              "    <tr>\n",
              "      <th>2020-09-02</th>\n",
              "      <td>0.666680</td>\n",
              "      <td>-0.160861</td>\n",
              "      <td>-0.041246</td>\n",
              "      <td>-0.709716</td>\n",
              "    </tr>\n",
              "    <tr>\n",
              "      <th>2020-09-03</th>\n",
              "      <td>0.816202</td>\n",
              "      <td>0.171767</td>\n",
              "      <td>-1.501401</td>\n",
              "      <td>-0.025870</td>\n",
              "    </tr>\n",
              "  </tbody>\n",
              "</table>\n",
              "</div>"
            ],
            "text/plain": [
              "                   A         B         C         D\n",
              "2020-09-01 -2.104635 -0.136122 -0.310485 -1.404145\n",
              "2020-09-02  0.666680 -0.160861 -0.041246 -0.709716\n",
              "2020-09-03  0.816202  0.171767 -1.501401 -0.025870"
            ]
          },
          "metadata": {
            "tags": []
          },
          "execution_count": 43
        }
      ]
    },
    {
      "cell_type": "code",
      "metadata": {
        "id": "a8vHAb_EmVYo",
        "colab": {
          "base_uri": "https://localhost:8080/",
          "height": 36
        },
        "outputId": "6434623e-7eed-4802-8e54-2577e6a0c1fc"
      },
      "source": [
        "df.loc['20200902', 'A']"
      ],
      "execution_count": null,
      "outputs": [
        {
          "output_type": "execute_result",
          "data": {
            "text/plain": [
              "0.6666801429018127"
            ]
          },
          "metadata": {
            "tags": []
          },
          "execution_count": 52
        }
      ]
    },
    {
      "cell_type": "code",
      "metadata": {
        "id": "vBuwJjBQmT-t",
        "colab": {
          "base_uri": "https://localhost:8080/",
          "height": 75
        },
        "outputId": "c21d7b7d-8de7-468a-83bb-4011a702c02d"
      },
      "source": [
        "df.loc['20200902', ['A', 'B']]"
      ],
      "execution_count": null,
      "outputs": [
        {
          "output_type": "execute_result",
          "data": {
            "text/plain": [
              "A    0.666680\n",
              "B   -0.160861\n",
              "Name: 2020-09-02 00:00:00, dtype: float64"
            ]
          },
          "metadata": {
            "tags": []
          },
          "execution_count": 55
        }
      ]
    },
    {
      "cell_type": "code",
      "metadata": {
        "id": "_O8IANH6mUhk",
        "colab": {
          "base_uri": "https://localhost:8080/",
          "height": 114
        },
        "outputId": "6e271e80-b5b0-4933-dbc1-e964c52e8c79"
      },
      "source": [
        "df.iloc[3]"
      ],
      "execution_count": null,
      "outputs": [
        {
          "output_type": "execute_result",
          "data": {
            "text/plain": [
              "A    0.263428\n",
              "B    0.149646\n",
              "C    0.003573\n",
              "D    0.005116\n",
              "Name: 2020-09-04 00:00:00, dtype: float64"
            ]
          },
          "metadata": {
            "tags": []
          },
          "execution_count": 56
        }
      ]
    },
    {
      "cell_type": "code",
      "metadata": {
        "id": "QgYbs4pHmk2o",
        "colab": {
          "base_uri": "https://localhost:8080/",
          "height": 36
        },
        "outputId": "956a75cc-aa5b-4917-baa9-ad70ff6e1491"
      },
      "source": [
        "df.iloc[1, 1]\n",
        "df.iat[1, 1]"
      ],
      "execution_count": null,
      "outputs": [
        {
          "output_type": "execute_result",
          "data": {
            "text/plain": [
              "-0.1608608834139378"
            ]
          },
          "metadata": {
            "tags": []
          },
          "execution_count": 57
        }
      ]
    },
    {
      "cell_type": "code",
      "metadata": {
        "id": "fRYLWRQ2mxAj",
        "colab": {
          "base_uri": "https://localhost:8080/",
          "height": 269
        },
        "outputId": "00623544-84d9-4207-87e4-bb440e310f72"
      },
      "source": [
        "df[df['A'] > 0]"
      ],
      "execution_count": null,
      "outputs": [
        {
          "output_type": "execute_result",
          "data": {
            "text/html": [
              "<div>\n",
              "<style scoped>\n",
              "    .dataframe tbody tr th:only-of-type {\n",
              "        vertical-align: middle;\n",
              "    }\n",
              "\n",
              "    .dataframe tbody tr th {\n",
              "        vertical-align: top;\n",
              "    }\n",
              "\n",
              "    .dataframe thead th {\n",
              "        text-align: right;\n",
              "    }\n",
              "</style>\n",
              "<table border=\"1\" class=\"dataframe\">\n",
              "  <thead>\n",
              "    <tr style=\"text-align: right;\">\n",
              "      <th></th>\n",
              "      <th>A</th>\n",
              "      <th>B</th>\n",
              "      <th>C</th>\n",
              "      <th>D</th>\n",
              "    </tr>\n",
              "  </thead>\n",
              "  <tbody>\n",
              "    <tr>\n",
              "      <th>2020-09-02</th>\n",
              "      <td>0.666680</td>\n",
              "      <td>-0.160861</td>\n",
              "      <td>-0.041246</td>\n",
              "      <td>-0.709716</td>\n",
              "    </tr>\n",
              "    <tr>\n",
              "      <th>2020-09-03</th>\n",
              "      <td>0.816202</td>\n",
              "      <td>0.171767</td>\n",
              "      <td>-1.501401</td>\n",
              "      <td>-0.025870</td>\n",
              "    </tr>\n",
              "    <tr>\n",
              "      <th>2020-09-04</th>\n",
              "      <td>0.263428</td>\n",
              "      <td>0.149646</td>\n",
              "      <td>0.003573</td>\n",
              "      <td>0.005116</td>\n",
              "    </tr>\n",
              "    <tr>\n",
              "      <th>2020-09-05</th>\n",
              "      <td>0.529207</td>\n",
              "      <td>-0.283964</td>\n",
              "      <td>0.477704</td>\n",
              "      <td>0.123173</td>\n",
              "    </tr>\n",
              "    <tr>\n",
              "      <th>2020-09-06</th>\n",
              "      <td>2.359600</td>\n",
              "      <td>-0.155144</td>\n",
              "      <td>1.738644</td>\n",
              "      <td>1.732793</td>\n",
              "    </tr>\n",
              "    <tr>\n",
              "      <th>2020-09-07</th>\n",
              "      <td>1.258376</td>\n",
              "      <td>0.163590</td>\n",
              "      <td>1.210463</td>\n",
              "      <td>1.849546</td>\n",
              "    </tr>\n",
              "    <tr>\n",
              "      <th>2020-09-10</th>\n",
              "      <td>0.740744</td>\n",
              "      <td>-0.442086</td>\n",
              "      <td>0.574647</td>\n",
              "      <td>-1.163627</td>\n",
              "    </tr>\n",
              "  </tbody>\n",
              "</table>\n",
              "</div>"
            ],
            "text/plain": [
              "                   A         B         C         D\n",
              "2020-09-02  0.666680 -0.160861 -0.041246 -0.709716\n",
              "2020-09-03  0.816202  0.171767 -1.501401 -0.025870\n",
              "2020-09-04  0.263428  0.149646  0.003573  0.005116\n",
              "2020-09-05  0.529207 -0.283964  0.477704  0.123173\n",
              "2020-09-06  2.359600 -0.155144  1.738644  1.732793\n",
              "2020-09-07  1.258376  0.163590  1.210463  1.849546\n",
              "2020-09-10  0.740744 -0.442086  0.574647 -1.163627"
            ]
          },
          "metadata": {
            "tags": []
          },
          "execution_count": 58
        }
      ]
    },
    {
      "cell_type": "code",
      "metadata": {
        "id": "PN3WFz4am1dU",
        "colab": {
          "base_uri": "https://localhost:8080/",
          "height": 363
        },
        "outputId": "d80ceaed-c2ac-4923-f657-0944fc536fb7"
      },
      "source": [
        "df[df > 0]"
      ],
      "execution_count": null,
      "outputs": [
        {
          "output_type": "execute_result",
          "data": {
            "text/html": [
              "<div>\n",
              "<style scoped>\n",
              "    .dataframe tbody tr th:only-of-type {\n",
              "        vertical-align: middle;\n",
              "    }\n",
              "\n",
              "    .dataframe tbody tr th {\n",
              "        vertical-align: top;\n",
              "    }\n",
              "\n",
              "    .dataframe thead th {\n",
              "        text-align: right;\n",
              "    }\n",
              "</style>\n",
              "<table border=\"1\" class=\"dataframe\">\n",
              "  <thead>\n",
              "    <tr style=\"text-align: right;\">\n",
              "      <th></th>\n",
              "      <th>A</th>\n",
              "      <th>B</th>\n",
              "      <th>C</th>\n",
              "      <th>D</th>\n",
              "    </tr>\n",
              "  </thead>\n",
              "  <tbody>\n",
              "    <tr>\n",
              "      <th>2020-09-01</th>\n",
              "      <td>NaN</td>\n",
              "      <td>NaN</td>\n",
              "      <td>NaN</td>\n",
              "      <td>NaN</td>\n",
              "    </tr>\n",
              "    <tr>\n",
              "      <th>2020-09-02</th>\n",
              "      <td>0.666680</td>\n",
              "      <td>NaN</td>\n",
              "      <td>NaN</td>\n",
              "      <td>NaN</td>\n",
              "    </tr>\n",
              "    <tr>\n",
              "      <th>2020-09-03</th>\n",
              "      <td>0.816202</td>\n",
              "      <td>0.171767</td>\n",
              "      <td>NaN</td>\n",
              "      <td>NaN</td>\n",
              "    </tr>\n",
              "    <tr>\n",
              "      <th>2020-09-04</th>\n",
              "      <td>0.263428</td>\n",
              "      <td>0.149646</td>\n",
              "      <td>0.003573</td>\n",
              "      <td>0.005116</td>\n",
              "    </tr>\n",
              "    <tr>\n",
              "      <th>2020-09-05</th>\n",
              "      <td>0.529207</td>\n",
              "      <td>NaN</td>\n",
              "      <td>0.477704</td>\n",
              "      <td>0.123173</td>\n",
              "    </tr>\n",
              "    <tr>\n",
              "      <th>2020-09-06</th>\n",
              "      <td>2.359600</td>\n",
              "      <td>NaN</td>\n",
              "      <td>1.738644</td>\n",
              "      <td>1.732793</td>\n",
              "    </tr>\n",
              "    <tr>\n",
              "      <th>2020-09-07</th>\n",
              "      <td>1.258376</td>\n",
              "      <td>0.163590</td>\n",
              "      <td>1.210463</td>\n",
              "      <td>1.849546</td>\n",
              "    </tr>\n",
              "    <tr>\n",
              "      <th>2020-09-08</th>\n",
              "      <td>NaN</td>\n",
              "      <td>NaN</td>\n",
              "      <td>0.104084</td>\n",
              "      <td>0.093460</td>\n",
              "    </tr>\n",
              "    <tr>\n",
              "      <th>2020-09-09</th>\n",
              "      <td>NaN</td>\n",
              "      <td>NaN</td>\n",
              "      <td>0.570294</td>\n",
              "      <td>NaN</td>\n",
              "    </tr>\n",
              "    <tr>\n",
              "      <th>2020-09-10</th>\n",
              "      <td>0.740744</td>\n",
              "      <td>NaN</td>\n",
              "      <td>0.574647</td>\n",
              "      <td>NaN</td>\n",
              "    </tr>\n",
              "  </tbody>\n",
              "</table>\n",
              "</div>"
            ],
            "text/plain": [
              "                   A         B         C         D\n",
              "2020-09-01       NaN       NaN       NaN       NaN\n",
              "2020-09-02  0.666680       NaN       NaN       NaN\n",
              "2020-09-03  0.816202  0.171767       NaN       NaN\n",
              "2020-09-04  0.263428  0.149646  0.003573  0.005116\n",
              "2020-09-05  0.529207       NaN  0.477704  0.123173\n",
              "2020-09-06  2.359600       NaN  1.738644  1.732793\n",
              "2020-09-07  1.258376  0.163590  1.210463  1.849546\n",
              "2020-09-08       NaN       NaN  0.104084  0.093460\n",
              "2020-09-09       NaN       NaN  0.570294       NaN\n",
              "2020-09-10  0.740744       NaN  0.574647       NaN"
            ]
          },
          "metadata": {
            "tags": []
          },
          "execution_count": 59
        }
      ]
    },
    {
      "cell_type": "code",
      "metadata": {
        "id": "eboBdkvyndDl"
      },
      "source": [
        "#df = pd.read_csv('foo.csv')\n",
        "#df.to_csv('foo.csv')"
      ],
      "execution_count": null,
      "outputs": []
    },
    {
      "cell_type": "code",
      "metadata": {
        "id": "ke_4FwJRn4Bj",
        "colab": {
          "resources": {
            "http://localhost:8080/nbextensions/google.colab/files.js": {
              "data": "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",
              "ok": true,
              "headers": [
                [
                  "content-type",
                  "application/javascript"
                ]
              ],
              "status": 200,
              "status_text": "OK"
            }
          },
          "base_uri": "https://localhost:8080/",
          "height": 138
        },
        "outputId": "3d126e11-f6f3-4b61-bef4-09b1ad71a3ca"
      },
      "source": [
        "from google.colab import files\n",
        "import io\n",
        "\n",
        "arquivo = files.upload()\n",
        "df = pd.read_csv(io.BytesIO(arquivo['teste.csv']))\n",
        "\n",
        "df"
      ],
      "execution_count": null,
      "outputs": [
        {
          "output_type": "display_data",
          "data": {
            "text/html": [
              "\n",
              "     <input type=\"file\" id=\"files-3052e648-abbb-4367-b4f4-8d449be4f68e\" name=\"files[]\" multiple disabled\n",
              "        style=\"border:none\" />\n",
              "     <output id=\"result-3052e648-abbb-4367-b4f4-8d449be4f68e\">\n",
              "      Upload widget is only available when the cell has been executed in the\n",
              "      current browser session. Please rerun this cell to enable.\n",
              "      </output>\n",
              "      <script src=\"/nbextensions/google.colab/files.js\"></script> "
            ],
            "text/plain": [
              "<IPython.core.display.HTML object>"
            ]
          },
          "metadata": {
            "tags": []
          }
        },
        {
          "output_type": "stream",
          "text": [
            "Saving teste.csv to teste.csv\n"
          ],
          "name": "stdout"
        },
        {
          "output_type": "execute_result",
          "data": {
            "text/html": [
              "<div>\n",
              "<style scoped>\n",
              "    .dataframe tbody tr th:only-of-type {\n",
              "        vertical-align: middle;\n",
              "    }\n",
              "\n",
              "    .dataframe tbody tr th {\n",
              "        vertical-align: top;\n",
              "    }\n",
              "\n",
              "    .dataframe thead th {\n",
              "        text-align: right;\n",
              "    }\n",
              "</style>\n",
              "<table border=\"1\" class=\"dataframe\">\n",
              "  <thead>\n",
              "    <tr style=\"text-align: right;\">\n",
              "      <th></th>\n",
              "      <th>A</th>\n",
              "      <th>B</th>\n",
              "      <th>C</th>\n",
              "    </tr>\n",
              "  </thead>\n",
              "  <tbody>\n",
              "    <tr>\n",
              "      <th>0</th>\n",
              "      <td>D</td>\n",
              "      <td>E</td>\n",
              "      <td>F</td>\n",
              "    </tr>\n",
              "  </tbody>\n",
              "</table>\n",
              "</div>"
            ],
            "text/plain": [
              "   A  B  C\n",
              "0  D  E  F"
            ]
          },
          "metadata": {
            "tags": []
          },
          "execution_count": 61
        }
      ]
    },
    {
      "cell_type": "markdown",
      "metadata": {
        "id": "x3e3wnj7aMRt"
      },
      "source": [
        "## Referências bibliográficas\n",
        "\n",
        "- [Numpy](https://numpy.org/doc/stable/reference/)\n",
        "- [Pandas](https://pandas.pydata.org/docs/)\n"
      ]
    }
  ]
}